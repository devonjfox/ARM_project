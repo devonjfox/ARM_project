{
 "cells": [
  {
   "cell_type": "code",
   "execution_count": 1,
   "id": "documentary-earthquake",
   "metadata": {},
   "outputs": [],
   "source": [
    "import pandas as pd"
   ]
  },
  {
   "cell_type": "code",
   "execution_count": null,
   "id": "outside-shakespeare",
   "metadata": {},
   "outputs": [],
   "source": [
    "csv = \"MHCLD_PUF_2018.csv\"\n",
    "df = pd.read_csv(csv, index_col='CASEID')\n",
    "# The warning: See here https://stackoverflow.com/questions/40659212/futurewarning-elementwise-comparison-failed-returning-scalar-but-in-the-futur"
   ]
  },
  {
   "cell_type": "code",
   "execution_count": null,
   "id": "becoming-blood",
   "metadata": {},
   "outputs": [],
   "source": [
    "df"
   ]
  },
  {
   "cell_type": "code",
   "execution_count": null,
   "id": "acquired-cholesterol",
   "metadata": {},
   "outputs": [],
   "source": [
    "census_csv = \"Census.csv\"\n",
    "df2 = pd.read_csv(census_csv, index_col=0)\n",
    "df2.dropna(inplace=True)\n",
    "df2"
   ]
  },
  {
   "cell_type": "code",
   "execution_count": null,
   "id": "hundred-season",
   "metadata": {},
   "outputs": [],
   "source": [
    "state_name = '.Oregon'\n",
    "year = '2018'\n",
    "population_by_state = df2.loc[state_name]\n",
    "population_by_year = population_by_state.loc[year]\n",
    "total_population = int(population_by_year.replace(',', ''))\n",
    "total_population"
   ]
  },
  {
   "cell_type": "code",
   "execution_count": null,
   "id": "indian-plenty",
   "metadata": {},
   "outputs": [],
   "source": [
    "state_code = 41\n",
    "state_df = df.loc[df['STATEFIP'] == state_code]\n",
    "diagnosis_in_state = state_df[['MH1', 'MH2', 'MH3']].copy()\n",
    "# Get all occurances of depression code (7) in MH1, MH2 OR MH3\n",
    "depression_code = 7\n",
    "depression_in_state = diagnosis_in_state[\n",
    "    (diagnosis_in_state['MH1'] == depression_code) | (diagnosis_in_state['MH2'] == depression_code) | (\n",
    "                diagnosis_in_state['MH3'] == depression_code)]\n",
    "population_with_depression = len(list(depression_in_state.index.values))\n",
    "population_with_depression"
   ]
  },
  {
   "cell_type": "code",
   "execution_count": null,
   "id": "naughty-sweden",
   "metadata": {},
   "outputs": [],
   "source": [
    "def rate_of_occurrence(total, population):\n",
    "    return (total / population) * 100"
   ]
  },
  {
   "cell_type": "code",
   "execution_count": null,
   "id": "colored-accounting",
   "metadata": {},
   "outputs": [],
   "source": [
    "decimal = rate_of_occurrence(total=population_with_depression, population=total_population)"
   ]
  }
 ],
 "metadata": {
  "kernelspec": {
   "display_name": "Python 3",
   "language": "python",
   "name": "python3"
  },
  "language_info": {
   "codemirror_mode": {
    "name": "ipython",
    "version": 3
   },
   "file_extension": ".py",
   "mimetype": "text/x-python",
   "name": "python",
   "nbconvert_exporter": "python",
   "pygments_lexer": "ipython3",
   "version": "3.8.2"
  }
 },
 "nbformat": 4,
 "nbformat_minor": 5
}
