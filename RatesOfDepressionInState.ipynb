{
 "cells": [
  {
   "cell_type": "code",
   "execution_count": 2,
   "id": "spare-baseline",
   "metadata": {},
   "outputs": [],
   "source": [
    "import pandas as pd"
   ]
  },
  {
   "cell_type": "code",
   "execution_count": 6,
   "id": "addressed-reward",
   "metadata": {},
   "outputs": [],
   "source": [
    "csv = \"MHCLD_PUF_2018.csv\"\n",
    "csv2 = \"Census.csv\"\n",
    "\n",
    "df = pd.read_csv(csv)\n",
    "df2 = pd.read_csv(csv2, index_col=0)"
   ]
  },
  {
   "cell_type": "code",
   "execution_count": 7,
   "id": "usual-brush",
   "metadata": {},
   "outputs": [],
   "source": [
    "def get_client_records_by_state(df, state):\n",
    "    return df.loc[df['STATEFIP'] == int(state)]\n",
    "\n",
    "def get_occurrences_of_depression_in_state(base_dataframe, state_code):\n",
    "    state_df = get_client_records_by_state(base_dataframe, state_code)\n",
    "    diagnosis_in_state = state_df[['MH1', 'MH2', 'MH3']].copy()\n",
    "    # Get all occurances of depression code (7) in MH1, MH2 OR MH3\n",
    "    depression_code = 7\n",
    "    depression_in_state = diagnosis_in_state[\n",
    "        (diagnosis_in_state['MH1'] == depression_code) | (diagnosis_in_state['MH2'] == depression_code) | (\n",
    "                diagnosis_in_state['MH3'] == depression_code)]\n",
    "    return depression_in_state\n",
    "\n",
    "def get_population(census_dataframe, state_name, year):\n",
    "    \"\"\"\n",
    "    Get population value as int given a census dataframe a state and a year\n",
    "    :rtype: int\n",
    "    \"\"\"\n",
    "    population_by_state = census_dataframe.loc[state_name]\n",
    "    population_by_year = population_by_state.loc[year]\n",
    "    return int(population_by_year.replace(',', ''))\n",
    "\n",
    "def depression_rate(census_dataframe, state_name, year, basedataframe, state_code):\n",
    "    population = get_population(census_dataframe, state_name, year)\n",
    "    print(\"Population of the Census Dataframe: \" + population.__str__())\n",
    "    depression_in_state = get_occurrences_of_depression_in_state(basedataframe, state_code)\n",
    "    print(\"Rates of Depression in \" + state_name + \"\")\n",
    "    total = len(depression_in_state.index)\n",
    "    print(\"Calculating rates of depression...\")\n",
    "    return (total / population) * 100"
   ]
  },
  {
   "cell_type": "code",
   "execution_count": 9,
   "id": "developing-deficit",
   "metadata": {},
   "outputs": [
    {
     "name": "stdout",
     "output_type": "stream",
     "text": [
      "Population of the Census Dataframe: 4181886\n",
      "Rates of Depression in .Oregon\n",
      "Calculating rates of depression...\n",
      "Rate of Depression in .Oregon: 0.896174596820669\n",
      "\n",
      "Population of the Census Dataframe: 4887681\n",
      "Rates of Depression in .Alabama\n",
      "Calculating rates of depression...\n",
      "Rate of Depression in .Alabama: 0.6039674029463051\n",
      "\n",
      "Population of the Census Dataframe: 7158024\n",
      "Rates of Depression in .Arizona\n",
      "Calculating rates of depression...\n",
      "Rate of Depression in .Arizona: 0.7389190089331916\n",
      "\n",
      "Population of the Census Dataframe: 39461588\n",
      "Rates of Depression in .California\n",
      "Calculating rates of depression...\n",
      "Rate of Depression in .California: 0.4562842225203912\n",
      "\n"
     ]
    }
   ],
   "source": [
    "list_of_states = {'.Oregon': 41, '.Alabama': 1, '.Arizona': 4, '.California': 6}\n",
    "\n",
    "for state, state_code in list_of_states.items():\n",
    "    rate_of_depression = depression_rate(df2, state, '2018', df, state_code)\n",
    "    print(\"Rate of Depression in \" + state + \": \" + str(rate_of_depression) + \"\\n\")"
   ]
  },
  {
   "cell_type": "code",
   "execution_count": null,
   "id": "tender-lender",
   "metadata": {},
   "outputs": [],
   "source": []
  }
 ],
 "metadata": {
  "kernelspec": {
   "display_name": "Python 3",
   "language": "python",
   "name": "python3"
  },
  "language_info": {
   "codemirror_mode": {
    "name": "ipython",
    "version": 3
   },
   "file_extension": ".py",
   "mimetype": "text/x-python",
   "name": "python",
   "nbconvert_exporter": "python",
   "pygments_lexer": "ipython3",
   "version": "3.8.2"
  }
 },
 "nbformat": 4,
 "nbformat_minor": 5
}
